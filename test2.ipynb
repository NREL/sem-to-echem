{
 "cells": [
  {
   "cell_type": "code",
   "execution_count": 1,
   "metadata": {},
   "outputs": [],
   "source": [
    "import pybamm"
   ]
  },
  {
   "cell_type": "code",
   "execution_count": 3,
   "metadata": {},
   "outputs": [
    {
     "name": "stdout",
     "output_type": "stream",
     "text": [
      "\n",
      "Parameters for an LG M50 cell, from the paper\n",
      "\n",
      "    Chang-Hui Chen, Ferran Brosa Planella, Kieran O'Regan, Dominika Gastol, W.\n",
      "    Dhammika Widanage, and Emma Kendrick. Development of Experimental Techniques for\n",
      "    Parameterization of Multi-scale Lithium-ion Battery Models. Journal of The\n",
      "    Electrochemical Society, 167(8):080534, 2020. doi:10.1149/1945-7111/ab9050.\n",
      "\n",
      "and references therein.\n",
      "\n",
      "SEI parameters are example parameters for SEI growth from the papers:\n",
      "\n",
      "    Ramadass, P., Haran, B., Gomadam, P. M., White, R., & Popov, B. N. (2004).\n",
      "    Development of first principles capacity fade model for Li-ion cells. Journal of\n",
      "    the Electrochemical Society, 151(2), A196-A203.\n",
      "\n",
      "    Ploehn, H. J., Ramadass, P., & White, R. E. (2004). Solvent diffusion model for\n",
      "    aging of lithium-ion battery cells. Journal of The Electrochemical Society,\n",
      "    151(3), A456-A462.\n",
      "\n",
      "    Single, F., Latz, A., & Horstmann, B. (2018). Identifying the mechanism of\n",
      "    continued growth of the solid-electrolyte interphase. ChemSusChem, 11(12),\n",
      "    1950-1955.\n",
      "\n",
      "    Safari, M., Morcrette, M., Teyssot, A., & Delacour, C. (2009). Multimodal\n",
      "    Physics- Based Aging Model for Life Prediction of Li-Ion Batteries. Journal of\n",
      "    The Electrochemical Society, 156(3),\n",
      "\n",
      "    Yang, X., Leng, Y., Zhang, G., Ge, S., Wang, C. (2017). Modeling of lithium\n",
      "    plating induced aging of lithium-ion batteries: Transition from linear to\n",
      "    nonlinear aging. Journal of Power Sources, 360, 28-40.\n",
      "\n",
      "Note: this parameter set does not claim to be representative of the true parameter\n",
      "values. Instead these are parameter values that were used to fit SEI models to\n",
      "observed experimental data in the referenced papers.\n",
      "\n"
     ]
    }
   ],
   "source": [
    "print(pybamm.parameter_sets.get_docstring(\"Chen2020\"))"
   ]
  },
  {
   "cell_type": "code",
   "execution_count": null,
   "metadata": {},
   "outputs": [],
   "source": []
  }
 ],
 "metadata": {
  "kernelspec": {
   "display_name": "ustruct-to-echem",
   "language": "python",
   "name": "python3"
  },
  "language_info": {
   "codemirror_mode": {
    "name": "ipython",
    "version": 3
   },
   "file_extension": ".py",
   "mimetype": "text/x-python",
   "name": "python",
   "nbconvert_exporter": "python",
   "pygments_lexer": "ipython3",
   "version": "3.11.5"
  }
 },
 "nbformat": 4,
 "nbformat_minor": 2
}
