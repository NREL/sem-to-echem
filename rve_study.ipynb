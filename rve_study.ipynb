{
 "cells": [
  {
   "cell_type": "code",
   "execution_count": 19,
   "metadata": {},
   "outputs": [],
   "source": [
    "import numpy as np\n",
    "import pybamm\n",
    "import matplotlib.pyplot as plt\n",
    "from utils.generate_new_volume import generate_new_volume\n",
    "from utils.physical_properties import *\n",
    "from skimage.transform import rescale, downscale_local_mean\n",
    "\n",
    "# 4 phase volumes\n",
    "phases = ['Pore','Crack','Particle','CBD']\n",
    "\n",
    "# Volume generation\n",
    "def generate_new_volume_rve(reduction, subregion_id, subregion):\n",
    "    model_name = 'slicegan_r{}_s{}{}'.format(str(reduction).replace('.', 'p'), str(subregion_id), str(subregion))\n",
    "    model_path = 'model/{}/{}'.format(model_name, model_name)\n",
    "\n",
    "    # Need to modify output size so the size of the generated volume is the same regardless of training image resolution\n",
    "    lz = int(20 * reduction) # default 8 at 20% reduction\n",
    "    vol = generate_new_volume(model_path=model_path, lz=lz)\n",
    "    # downscale higher resolution images to avoid taking a really long time, rounding to preseve segmented\n",
    "    if reduction > 0.2:\n",
    "        reduced = rescale(vol, 0.2/reduction)\n",
    "    else:\n",
    "        reduced = vol\n",
    "    return vol, reduced\n",
    "\n",
    "# Diffusivity function to modify for Pybamm\n",
    "def lico2_diffusivity(sto, T, coeff):\n",
    "    \"\"\"\n",
    "    LiCo2 diffusivity as a function of stochiometry, in this case the\n",
    "    diffusivity is taken to be a constant. The value is taken from Dualfoil [1].\n",
    "\n",
    "    References\n",
    "    ----------\n",
    "    .. [1] http://www.cchem.berkeley.edu/jsngrp/fortran.html\n",
    "\n",
    "    Parameters\n",
    "    ----------\n",
    "    sto: :class:`pybamm.Symbol`\n",
    "        Electrode stochiometry\n",
    "    T: :class:`pybamm.Symbol`\n",
    "        Dimensional temperature\n",
    "\n",
    "    Returns\n",
    "    -------\n",
    "    :class:`pybamm.Symbol`\n",
    "        Solid diffusivity\n",
    "    \"\"\"\n",
    "    #D_ref = 1 * 10 ** (-13)\n",
    "    D_ref = (coeff / 0.4) * 10 ** (-13) # 0.4 is a random number picked from some GAN runs\n",
    "    E_D_s = 18550\n",
    "    arrhenius = pybamm.exp(E_D_s / pybamm.pybamm.constants.R * (1 / 298.15 - 1 / T))\n",
    "\n",
    "    return D_ref * arrhenius\n",
    "\n",
    "def properties_and_echem_from_volume(reduction, subregion_id, subregion, n=10, is_plot=True):\n",
    "    capacities = np.zeros((n,1))\n",
    "    vfs_particle = np.zeros((n,1))\n",
    "    vfs_pore = np.zeros((n,1))\n",
    "    D_effs = np.zeros((n,1))\n",
    "\n",
    "    for i in range(n):\n",
    "        vol, vol_reduced = generate_new_volume_rve(reduction, subregion_id, subregion)\n",
    "        vol = vol_reduced\n",
    "        '''\n",
    "        Properties to modify:\n",
    "        - Positive electrode porosity\n",
    "        - Positive electrode active material volume fraction\n",
    "        Things to work on later:\n",
    "        - inputting Deff into positive electrode diffusivity (need to modify function in parameters)\n",
    "        - inputting particle size (current volume is too small to have 'particles')\n",
    "            - use surface area to reverse calculate particle size? particle size controls surface area in pybamm (sphere = 3/(r*(1-vf_pore)))\n",
    "        '''\n",
    "        # Set all cracks and pores equal for porosity\n",
    "        vol[vol==1] = 0\n",
    "        vf_particle = volume_fraction(vol, phase_class=2)\n",
    "        vf_pore     = volume_fraction(vol, phase_class=0)\n",
    "        # # pybamm can fail at extreme values\n",
    "        # if vf_particle > 0.85:\n",
    "        #     vf_particle = 0.85\n",
    "        # if vf_pore < 0.09:\n",
    "        #     vf_pore = 0.09\n",
    "\n",
    "        # Diffusivity and tortuosity\n",
    "        # Set all phases to 0 except particle for taufactor\n",
    "        vol[vol==3] = 0\n",
    "        vol[vol==2] = 1\n",
    "        homogenized_properties = compute_tau_and_D_eff(vol, verbose=False)\n",
    "        D_eff = homogenized_properties['D_eff'].item()\n",
    "\n",
    "        vfs_particle[i] = vf_particle\n",
    "        vfs_pore[i] = vf_pore\n",
    "        D_effs[i] = D_eff\n",
    "\n",
    "        # PyBaMM model\n",
    "        model = pybamm.lithium_ion.DFN()\n",
    "        # Default parameter set\n",
    "        params = pybamm.ParameterValues(\"Marquis2019\")\n",
    "        # Modify parameters\n",
    "        params['Positive electrode porosity'] = vf_pore\n",
    "        params['Positive electrode active material volume fraction'] = vf_particle\n",
    "        params['Positive electrode diffusivity [m2.s-1]'] = lambda sto, T: lico2_diffusivity(sto, T, D_eff)\n",
    "        # Run the simulation\n",
    "        sim = pybamm.Simulation(model,parameter_values=params)\n",
    "        sim.solve([0, 7200],initial_soc=1)\n",
    "        sol = sim.solution\n",
    "        # Save the discharge capacity\n",
    "        capacities[i] = sol['Discharge capacity [A.h]'].entries[-1]\n",
    "\n",
    "        # Plot to see if the simulations are any different\n",
    "        if is_plot:\n",
    "            plt.plot(sol['Discharge capacity [A.h]'].entries, sol['Voltage [V]'].entries)\n",
    "\n",
    "    if is_plot:\n",
    "        plt.show()\n",
    "    \n",
    "    return capacities, vfs_particle, vfs_pore, D_effs\n"
   ]
  },
  {
   "cell_type": "code",
   "execution_count": 20,
   "metadata": {},
   "outputs": [],
   "source": [
    "reduction = [1.0, 0.8, 0.6, 0.4, 0.2]\n",
    "for red in reduction:\n",
    "    vol, vol_reduced = generate_new_volume_rve(red, 1, 1)\n",
    "    path = 'img/slicegan_r{}_s{}{}_slice.png'.format(str(red).replace('.', 'p'), str(1), str(1))\n",
    "    \n",
    "    fig, ax = plt.subplots(1, 3)\n",
    "    ax[0].imshow(vol[10, :, :], cmap = 'gray')\n",
    "    ax[1].imshow(vol[:, 10, :], cmap = 'gray')\n",
    "    ax[2].imshow(vol[:, :, 10], cmap = 'gray')\n",
    "    plt.savefig(path)\n",
    "    plt.close()"
   ]
  },
  {
   "cell_type": "code",
   "execution_count": 50,
   "metadata": {},
   "outputs": [
    {
     "data": {
      "text/plain": [
       "((192, 192, 192),\n",
       " (192, 192, 192),\n",
       " array([0, 1, 2, 3], dtype=int64),\n",
       " array([0, 1, 2, 3]))"
      ]
     },
     "execution_count": 50,
     "metadata": {},
     "output_type": "execute_result"
    }
   ],
   "source": [
    "reduction = 0.2\n",
    "subregion = 1\n",
    "subregion_id = 1\n",
    "\n",
    "model_name = 'slicegan_r{}_s{}{}'.format(str(reduction).replace('.', 'p'), str(subregion_id), str(subregion))\n",
    "model_path = 'model/{}/{}'.format(model_name, model_name)\n",
    "\n",
    "# Need to modify output size so the size of the generated volume is the same regardless of training image resolution\n",
    "lz = int(40 * reduction) # default 8 at 20% reduction\n",
    "vol = generate_new_volume(model_path=model_path, lz=lz)\n",
    "\n",
    "# downscale\n",
    "vol_ = np.round(downscale_local_mean(vol, int(reduction/0.2))).astype(int)\n",
    "\n",
    "vol.shape, vol_.shape, np.unique(vol), np.unique(vol_)"
   ]
  },
  {
   "cell_type": "code",
   "execution_count": 37,
   "metadata": {},
   "outputs": [
    {
     "data": {
      "text/plain": [
       "((448, 448, 448),\n",
       " (224, 224, 224),\n",
       " array([0, 1, 2, 3], dtype=int64),\n",
       " array([0, 1, 2, 3]))"
      ]
     },
     "execution_count": 37,
     "metadata": {},
     "output_type": "execute_result"
    }
   ],
   "source": [
    "reduction = 0.4\n",
    "subregion = 1\n",
    "subregion_id = 1\n",
    "\n",
    "model_name = 'slicegan_r{}_s{}{}'.format(str(reduction).replace('.', 'p'), str(subregion_id), str(subregion))\n",
    "model_path = 'model/{}/{}'.format(model_name, model_name)\n",
    "\n",
    "# Need to modify output size so the size of the generated volume is the same regardless of training image resolution\n",
    "lz = int(40 * reduction) # default 8 at 20% reduction\n",
    "vol = generate_new_volume(model_path=model_path, lz=lz)\n",
    "\n",
    "# downscale\n",
    "vol_ = np.round(downscale_local_mean(vol, int(reduction/0.2))).astype(int)\n",
    "\n",
    "vol.shape, vol_.shape, np.unique(vol), np.unique(vol_)"
   ]
  },
  {
   "cell_type": "code",
   "execution_count": 38,
   "metadata": {},
   "outputs": [
    {
     "data": {
      "text/plain": [
       "((704, 704, 704),\n",
       " (352, 352, 352),\n",
       " array([0, 1, 2, 3], dtype=int64),\n",
       " array([0, 1, 2, 3]))"
      ]
     },
     "execution_count": 38,
     "metadata": {},
     "output_type": "execute_result"
    }
   ],
   "source": [
    "reduction = 0.6\n",
    "subregion = 1\n",
    "subregion_id = 1\n",
    "\n",
    "model_name = 'slicegan_r{}_s{}{}'.format(str(reduction).replace('.', 'p'), str(subregion_id), str(subregion))\n",
    "model_path = 'model/{}/{}'.format(model_name, model_name)\n",
    "\n",
    "# Need to modify output size so the size of the generated volume is the same regardless of training image resolution\n",
    "lz = int(40 * reduction) # default 8 at 20% reduction\n",
    "vol = generate_new_volume(model_path=model_path, lz=lz)\n",
    "\n",
    "# downscale\n",
    "vol_ = np.round(downscale_local_mean(vol, int(reduction/0.2))).astype(int)\n",
    "\n",
    "vol.shape, vol_.shape, np.unique(vol), np.unique(vol_)"
   ]
  },
  {
   "cell_type": "code",
   "execution_count": 40,
   "metadata": {},
   "outputs": [
    {
     "data": {
      "text/plain": [
       "((704, 704, 704),\n",
       " (176, 176, 176),\n",
       " array([0, 1, 2, 3], dtype=int64),\n",
       " array([0, 1, 2, 3]))"
      ]
     },
     "execution_count": 40,
     "metadata": {},
     "output_type": "execute_result"
    }
   ],
   "source": [
    "reduction = 0.8\n",
    "subregion = 1\n",
    "subregion_id = 1\n",
    "\n",
    "model_name = 'slicegan_r{}_s{}{}'.format(str(reduction).replace('.', 'p'), str(subregion_id), str(subregion))\n",
    "model_path = 'model/{}/{}'.format(model_name, model_name)\n",
    "\n",
    "# Need to modify output size so the size of the generated volume is the same regardless of training image resolution\n",
    "lz = int(40 * reduction) # default 8 at 20% reduction\n",
    "vol = generate_new_volume(model_path=model_path, lz=lz)\n",
    "\n",
    "# downscale\n",
    "vol_ = np.round(downscale_local_mean(vol, int(reduction/0.2))).astype(int)\n",
    "\n",
    "vol.shape, vol_.shape, np.unique(vol), np.unique(vol_)"
   ]
  },
  {
   "cell_type": "code",
   "execution_count": 55,
   "metadata": {},
   "outputs": [
    {
     "data": {
      "text/plain": [
       "((192, 192, 192),\n",
       " (39, 39, 39),\n",
       " array([0, 1, 2, 3], dtype=int64),\n",
       " array([0, 1, 2, 3]))"
      ]
     },
     "execution_count": 55,
     "metadata": {},
     "output_type": "execute_result"
    }
   ],
   "source": [
    "reduction = 1.0\n",
    "subregion = 1\n",
    "subregion_id = 1\n",
    "\n",
    "model_name = 'slicegan_r{}_s{}{}'.format(str(reduction).replace('.', 'p'), str(subregion_id), str(subregion))\n",
    "model_path = 'model/{}/{}'.format(model_name, model_name)\n",
    "\n",
    "# Need to modify output size so the size of the generated volume is the same regardless of training image resolution\n",
    "lz = int(40 * reduction) # default 8 at 20% reduction\n",
    "vol = generate_new_volume(model_path=model_path, lz=lz)\n",
    "\n",
    "# downscale\n",
    "vol_ = np.round(downscale_local_mean(vol, int(reduction/0.2))).astype(int)\n",
    "\n",
    "vol.shape, vol_.shape, np.unique(vol), np.unique(vol_)"
   ]
  },
  {
   "cell_type": "code",
   "execution_count": 35,
   "metadata": {},
   "outputs": [
    {
     "data": {
      "text/plain": [
       "3.6666666666666665"
      ]
     },
     "execution_count": 35,
     "metadata": {},
     "output_type": "execute_result"
    }
   ],
   "source": [
    "reductions =        (0.2, 0.4, 0.6, 0.8, 1.0)\n",
    "im_gen_shapes =     (0.2, 0.4, 0.6, 704, 1.0)\n",
    "im_final_shapes =   (0.2, 0.4, 0.6, 176, 1.0)"
   ]
  },
  {
   "cell_type": "code",
   "execution_count": 4,
   "metadata": {},
   "outputs": [
    {
     "name": "stderr",
     "output_type": "stream",
     "text": [
      "At t = 490.767 and h = 2.17794e-15, the corrector convergence failed repeatedly or with |h| = hmin.\n",
      "At t = 199.858 and h = 2.85789e-14, the corrector convergence failed repeatedly or with |h| = hmin.\n",
      "At t = 517.575 and h = 2.99075e-19, the corrector convergence failed repeatedly or with |h| = hmin.\n",
      "At t = 226.666 and h = 1.90016e-14, the corrector convergence failed repeatedly or with |h| = hmin.\n",
      "At t = 561.539 and h = 3.53232e-20, the corrector convergence failed repeatedly or with |h| = hmin.\n",
      "At t = 270.63 and h = 5.8215e-14, the corrector convergence failed repeatedly or with |h| = hmin.\n",
      "At t = 125.175 and h = 8.20624e-23, the corrector convergence failed repeatedly or with |h| = hmin.\n",
      "At t = 531.587 and h = 5.68123e-19, the corrector convergence failed repeatedly or with |h| = hmin.\n",
      "At t = 240.678 and h = 8.45701e-19, the corrector convergence failed repeatedly or with |h| = hmin.\n",
      "At t = 95.223 and h = 6.05269e-14, the corrector convergence failed repeatedly or with |h| = hmin.\n",
      "At t = 536.117 and h = 1.54183e-14, the corrector convergence failed repeatedly or with |h| = hmin.\n",
      "At t = 245.208 and h = 8.43693e-17, the corrector convergence failed repeatedly or with |h| = hmin.\n",
      "At t = 99.7539 and h = 1.66514e-20, the corrector convergence failed repeatedly or with |h| = hmin.\n",
      "At t = 525.212 and h = 7.1553e-15, the corrector convergence failed repeatedly or with |h| = hmin.\n",
      "At t = 234.303 and h = 4.85104e-15, the corrector convergence failed repeatedly or with |h| = hmin.\n",
      "At t = 88.8485 and h = 6.10884e-14, the corrector convergence failed repeatedly or with |h| = hmin.\n",
      "At t = 530.096 and h = 8.75817e-19, the corrector convergence failed repeatedly or with |h| = hmin.\n",
      "At t = 239.187 and h = 2.22329e-18, the corrector convergence failed repeatedly or with |h| = hmin.\n",
      "At t = 93.7324 and h = 1.49919e-14, the corrector convergence failed repeatedly or with |h| = hmin.\n",
      "At t = 535.132 and h = 1.06928e-18, the corrector convergence failed repeatedly or with |h| = hmin.\n",
      "At t = 244.223 and h = 2.00625e-14, the corrector convergence failed repeatedly or with |h| = hmin.\n",
      "At t = 98.7688 and h = 1.0618e-16, the corrector convergence failed repeatedly or with |h| = hmin.\n",
      "At t = 551.144 and h = 2.99803e-18, the corrector convergence failed repeatedly or with |h| = hmin.\n",
      "At t = 260.235 and h = 2.21236e-16, the corrector convergence failed repeatedly or with |h| = hmin.\n",
      "At t = 114.78 and h = 3.1947e-14, the corrector convergence failed repeatedly or with |h| = hmin.\n",
      "At t = 536.641 and h = 3.86014e-18, the corrector convergence failed repeatedly or with |h| = hmin.\n",
      "At t = 245.731 and h = 3.71273e-19, the corrector convergence failed repeatedly or with |h| = hmin.\n",
      "At t = 100.277 and h = 7.72503e-18, the corrector convergence failed repeatedly or with |h| = hmin.\n"
     ]
    },
    {
     "data": {
      "image/png": "[encoded data removed]",
      "text/plain": [
       "<Figure size 640x480 with 1 Axes>"
      ]
     },
     "metadata": {},
     "output_type": "display_data"
    },
    {
     "data": {
      "text/plain": [
       "(array([[1.06396494],\n",
       "        [1.07072614],\n",
       "        [1.08036791],\n",
       "        [1.07437467],\n",
       "        [1.07528251],\n",
       "        [1.07330247],\n",
       "        [1.0739616 ],\n",
       "        [1.07501588],\n",
       "        [1.07851508],\n",
       "        [1.07558733]]),\n",
       " array([[0.66200878],\n",
       "        [0.68291134],\n",
       "        [0.71626112],\n",
       "        [0.69364873],\n",
       "        [0.69709665],\n",
       "        [0.68877835],\n",
       "        [0.69251195],\n",
       "        [0.69634798],\n",
       "        [0.70845738],\n",
       "        [0.69749394]]),\n",
       " array([[0.12802943],\n",
       "        [0.1258381 ],\n",
       "        [0.12524569],\n",
       "        [0.13289784],\n",
       "        [0.13148131],\n",
       "        [0.1413659 ],\n",
       "        [0.13136998],\n",
       "        [0.12993057],\n",
       "        [0.13198711],\n",
       "        [0.13569613]]),\n",
       " array([[0.19670591],\n",
       "        [0.1780802 ],\n",
       "        [0.24974024],\n",
       "        [0.21780851],\n",
       "        [0.21669808],\n",
       "        [0.20359418],\n",
       "        [0.21022902],\n",
       "        [0.22961044],\n",
       "        [0.23841918],\n",
       "        [0.21940938]]))"
      ]
     },
     "execution_count": 4,
     "metadata": {},
     "output_type": "execute_result"
    }
   ],
   "source": [
    "reduction = 0.2\n",
    "subregion = 1\n",
    "subregion_id = 1\n",
    "\n",
    "properties_and_echem_from_volume(reduction, subregion_id, subregion)"
   ]
  },
  {
   "cell_type": "code",
   "execution_count": 7,
   "metadata": {},
   "outputs": [
    {
     "ename": "TypeError",
     "evalue": "can't convert cuda:0 device type tensor to numpy. Use Tensor.cpu() to copy the tensor to host memory first.",
     "output_type": "error",
     "traceback": [
      "\u001b[1;31m---------------------------------------------------------------------------\u001b[0m",
      "\u001b[1;31mTypeError\u001b[0m                                 Traceback (most recent call last)",
      "Cell \u001b[1;32mIn[7], line 5\u001b[0m\n\u001b[0;32m      2\u001b[0m subregion \u001b[38;5;241m=\u001b[39m \u001b[38;5;241m1\u001b[39m\n\u001b[0;32m      3\u001b[0m subregion_id \u001b[38;5;241m=\u001b[39m \u001b[38;5;241m1\u001b[39m\n\u001b[1;32m----> 5\u001b[0m \u001b[43mproperties_and_echem_from_volume\u001b[49m\u001b[43m(\u001b[49m\u001b[43mreduction\u001b[49m\u001b[43m,\u001b[49m\u001b[43m \u001b[49m\u001b[43msubregion_id\u001b[49m\u001b[43m,\u001b[49m\u001b[43m \u001b[49m\u001b[43msubregion\u001b[49m\u001b[43m)\u001b[49m\n",
      "Cell \u001b[1;32mIn[6], line 83\u001b[0m, in \u001b[0;36mproperties_and_echem_from_volume\u001b[1;34m(reduction, subregion_id, subregion, n, is_plot)\u001b[0m\n\u001b[0;32m     81\u001b[0m vol[vol\u001b[38;5;241m==\u001b[39m\u001b[38;5;241m3\u001b[39m] \u001b[38;5;241m=\u001b[39m \u001b[38;5;241m0\u001b[39m\n\u001b[0;32m     82\u001b[0m vol[vol\u001b[38;5;241m==\u001b[39m\u001b[38;5;241m2\u001b[39m] \u001b[38;5;241m=\u001b[39m \u001b[38;5;241m1\u001b[39m\n\u001b[1;32m---> 83\u001b[0m homogenized_properties \u001b[38;5;241m=\u001b[39m \u001b[43mcompute_tau_and_D_eff\u001b[49m\u001b[43m(\u001b[49m\u001b[43mvol\u001b[49m\u001b[43m,\u001b[49m\u001b[43m \u001b[49m\u001b[43mverbose\u001b[49m\u001b[38;5;241;43m=\u001b[39;49m\u001b[38;5;28;43;01mFalse\u001b[39;49;00m\u001b[43m)\u001b[49m\n\u001b[0;32m     84\u001b[0m D_eff \u001b[38;5;241m=\u001b[39m homogenized_properties[\u001b[38;5;124m'\u001b[39m\u001b[38;5;124mD_eff\u001b[39m\u001b[38;5;124m'\u001b[39m]\u001b[38;5;241m.\u001b[39mitem()\n\u001b[0;32m     86\u001b[0m vfs_particle[i] \u001b[38;5;241m=\u001b[39m vf_particle\n",
      "File \u001b[1;32mc:\\Users\\pgasper\\Documents\\GitHub\\ustruct-to-echem\\utils\\physical_properties.py:35\u001b[0m, in \u001b[0;36mcompute_tau_and_D_eff\u001b[1;34m(segmentation, verbose, conv_crit)\u001b[0m\n\u001b[0;32m     14\u001b[0m \u001b[38;5;28;01mdef\u001b[39;00m \u001b[38;5;21mcompute_tau_and_D_eff\u001b[39m(segmentation, verbose\u001b[38;5;241m=\u001b[39m\u001b[38;5;124m\"\u001b[39m\u001b[38;5;124mper_iter\u001b[39m\u001b[38;5;124m\"\u001b[39m, conv_crit\u001b[38;5;241m=\u001b[39m\u001b[38;5;241m0.02\u001b[39m):\n\u001b[0;32m     15\u001b[0m \u001b[38;5;250m    \u001b[39m\u001b[38;5;124;03m\"\"\"\u001b[39;00m\n\u001b[0;32m     16\u001b[0m \u001b[38;5;124;03m    Use TauFactor to compute tau and D_eff from a segmented volume.\u001b[39;00m\n\u001b[0;32m     17\u001b[0m \n\u001b[1;32m   (...)\u001b[0m\n\u001b[0;32m     32\u001b[0m \u001b[38;5;124;03m                                        \"D_rel\".\u001b[39;00m\n\u001b[0;32m     33\u001b[0m \u001b[38;5;124;03m    \"\"\"\u001b[39;00m\n\u001b[1;32m---> 35\u001b[0m     s \u001b[38;5;241m=\u001b[39m \u001b[43mtau\u001b[49m\u001b[38;5;241;43m.\u001b[39;49m\u001b[43mSolver\u001b[49m\u001b[43m(\u001b[49m\u001b[43msegmentation\u001b[49m\u001b[43m)\u001b[49m\n\u001b[0;32m     36\u001b[0m     s\u001b[38;5;241m.\u001b[39msolve(verbose\u001b[38;5;241m=\u001b[39mverbose, conv_crit\u001b[38;5;241m=\u001b[39mconv_crit)\n\u001b[0;32m     38\u001b[0m     taufactor_dict \u001b[38;5;241m=\u001b[39m {\n\u001b[0;32m     39\u001b[0m         \u001b[38;5;124m\"\u001b[39m\u001b[38;5;124mtau\u001b[39m\u001b[38;5;124m\"\u001b[39m: s\u001b[38;5;241m.\u001b[39mtau,\n\u001b[0;32m     40\u001b[0m         \u001b[38;5;124m\"\u001b[39m\u001b[38;5;124mD_eff\u001b[39m\u001b[38;5;124m\"\u001b[39m: s\u001b[38;5;241m.\u001b[39mD_eff,\n\u001b[0;32m     41\u001b[0m         \u001b[38;5;124m\"\u001b[39m\u001b[38;5;124mD_rel\u001b[39m\u001b[38;5;124m\"\u001b[39m: s\u001b[38;5;241m.\u001b[39mD_rel,\n\u001b[0;32m     42\u001b[0m     }\n",
      "File \u001b[1;32mc:\\Users\\pgasper\\AppData\\Local\\anaconda3\\envs\\ustruct-to-echem\\Lib\\site-packages\\taufactor\\taufactor.py:47\u001b[0m, in \u001b[0;36mSolver.__init__\u001b[1;34m(self, img, bc, D_0, device)\u001b[0m\n\u001b[0;32m     43\u001b[0m \u001b[38;5;28mself\u001b[39m\u001b[38;5;241m.\u001b[39mVF \u001b[38;5;241m=\u001b[39m torch\u001b[38;5;241m.\u001b[39mmean(img)\n\u001b[0;32m     45\u001b[0m \u001b[38;5;28;01mif\u001b[39;00m \u001b[38;5;28mlen\u001b[39m(torch\u001b[38;5;241m.\u001b[39munique(img)\u001b[38;5;241m.\u001b[39mshape) \u001b[38;5;241m>\u001b[39m \u001b[38;5;241m2\u001b[39m \u001b[38;5;129;01mor\u001b[39;00m torch\u001b[38;5;241m.\u001b[39munique(img)\u001b[38;5;241m.\u001b[39mmax() \u001b[38;5;129;01mnot\u001b[39;00m \u001b[38;5;129;01min\u001b[39;00m [\u001b[38;5;241m0\u001b[39m, \u001b[38;5;241m1\u001b[39m] \u001b[38;5;129;01mor\u001b[39;00m torch\u001b[38;5;241m.\u001b[39munique(img)\u001b[38;5;241m.\u001b[39mmin() \u001b[38;5;129;01mnot\u001b[39;00m \u001b[38;5;129;01min\u001b[39;00m [\u001b[38;5;241m0\u001b[39m, \u001b[38;5;241m1\u001b[39m]:\n\u001b[0;32m     46\u001b[0m     \u001b[38;5;28;01mraise\u001b[39;00m \u001b[38;5;167;01mValueError\u001b[39;00m(\n\u001b[1;32m---> 47\u001b[0m         \u001b[38;5;124mf\u001b[39m\u001b[38;5;124m'\u001b[39m\u001b[38;5;124mInput image must only contain 0s and 1s. Your image must be segmented to use this tool. If your image has been segmented, ensure your labels are 0 for non-conductive and 1 for conductive phase. Your image has the following labels: \u001b[39m\u001b[38;5;132;01m{\u001b[39;00m\u001b[43mtorch\u001b[49m\u001b[38;5;241;43m.\u001b[39;49m\u001b[43munique\u001b[49m\u001b[43m(\u001b[49m\u001b[43mimg\u001b[49m\u001b[43m)\u001b[49m\u001b[38;5;241;43m.\u001b[39;49m\u001b[43mnumpy\u001b[49m\u001b[43m(\u001b[49m\u001b[43m)\u001b[49m\u001b[38;5;132;01m}\u001b[39;00m\u001b[38;5;124m. If you have more than one conductive phase, use the multi-phase solver.\u001b[39m\u001b[38;5;124m'\u001b[39m)\n\u001b[0;32m     49\u001b[0m \u001b[38;5;66;03m# calculate\u001b[39;00m\n\u001b[0;32m     50\u001b[0m \u001b[38;5;28mself\u001b[39m\u001b[38;5;241m.\u001b[39mph_bot \u001b[38;5;241m=\u001b[39m torch\u001b[38;5;241m.\u001b[39msum(img[:, \u001b[38;5;241m-\u001b[39m\u001b[38;5;241m1\u001b[39m])\u001b[38;5;241m.\u001b[39mto(\u001b[38;5;28mself\u001b[39m\u001b[38;5;241m.\u001b[39mdevice) \u001b[38;5;241m*\u001b[39m \u001b[38;5;28mself\u001b[39m\u001b[38;5;241m.\u001b[39mbot_bc\n",
      "\u001b[1;31mTypeError\u001b[0m: can't convert cuda:0 device type tensor to numpy. Use Tensor.cpu() to copy the tensor to host memory first."
     ]
    }
   ],
   "source": [
    "reduction = 0.4\n",
    "subregion = 1\n",
    "subregion_id = 1\n",
    "\n",
    "properties_and_echem_from_volume(reduction, subregion_id, subregion)"
   ]
  },
  {
   "cell_type": "code",
   "execution_count": null,
   "metadata": {},
   "outputs": [],
   "source": []
  }
 ],
 "metadata": {
  "kernelspec": {
   "display_name": "ustruct-to-echem",
   "language": "python",
   "name": "python3"
  },
  "language_info": {
   "codemirror_mode": {
    "name": "ipython",
    "version": 3
   },
   "file_extension": ".py",
   "mimetype": "text/x-python",
   "name": "python",
   "nbconvert_exporter": "python",
   "pygments_lexer": "ipython3",
   "version": "3.11.0"
  }
 },
 "nbformat": 4,
 "nbformat_minor": 2
}
