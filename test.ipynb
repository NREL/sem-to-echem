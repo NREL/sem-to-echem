{
 "cells": [
  {
   "cell_type": "code",
   "execution_count": 1,
   "metadata": {},
   "outputs": [],
   "source": [
    "from utils.physical_properties import *\n",
    "import tifffile"
   ]
  },
  {
   "cell_type": "code",
   "execution_count": 3,
   "metadata": {},
   "outputs": [
    {
     "data": {
      "text/plain": [
       "(tensor(3.2886, device='cuda:0'),\n",
       " tensor(0.1502),\n",
       " tensor(0.1502),\n",
       " {'pore': 0.5061042852841805, 'particle': 0.4938957147158195},\n",
       " 0.16739560224010638,\n",
       " 4.105012531328321)"
      ]
     },
     "execution_count": 3,
     "metadata": {},
     "output_type": "execute_result"
    }
   ],
   "source": [
    "img = tifffile.imread('data/nmc1cal_ROI_Saturation_filtering_segmentation.tif')\n",
    "taufactor_dict = compute_tau_and_D_eff(img, verbose=False)\n",
    "tau, D_eff, D_rel = taufactor_dict['tau'], taufactor_dict['D_eff'], taufactor_dict['D_rel']\n",
    "vol_frac = {'pore': volume_fraction(img, 0), 'particle': volume_fraction(img, 1)}\n",
    "surf_area = total_surface_area(img)\n",
    "part_size = particle_size(img)\n",
    "\n",
    "tau, D_eff, D_rel, vol_frac, surf_area, part_size\n",
    "\n",
    "#Results from taufactor:\n",
    "#tautau, D_eff, vf, sa\n",
    "#(tensor(3.2886, device='cuda:0'),\n",
    "# tensor(0.1502),\n",
    "# {'pore': 0.5061042904853821, 'particle': 0.49389564990997314},\n",
    "# tensor(0.0496))"
   ]
  },
  {
   "cell_type": "code",
   "execution_count": 2,
   "metadata": {},
   "outputs": [
    {
     "name": "stdout",
     "output_type": "stream",
     "text": [
      "converged to: 3.2886064052581787                   after: 1101 iterations in: 63.8917                    seconds at a rate of 0.058 s/iter\n"
     ]
    },
    {
     "data": {
      "text/plain": [
       "(tensor(3.2886, device='cuda:0'),\n",
       " tensor(0.1502),\n",
       " {'pore': 0.5061042904853821, 'particle': 0.49389564990997314},\n",
       " tensor(0.0496))"
      ]
     },
     "execution_count": 2,
     "metadata": {},
     "output_type": "execute_result"
    }
   ],
   "source": [
    "img = tifffile.imread('data/nmc1cal_ROI_Saturation_filtering_segmentation.tif')\n",
    "tau_solver = tau.Solver(img)\n",
    "tau_solver.solve()\n",
    "tautau, D_eff, vf, sa = tau_solver.tau, tau_solver.D_eff, volume_fraction(img, phases={'pore':0, 'particle':1}), surface_area(img, phases=[0,1])\n",
    "del img, tau_solver\n",
    "tautau, D_eff, vf, sa"
   ]
  },
  {
   "cell_type": "code",
   "execution_count": 3,
   "metadata": {},
   "outputs": [
    {
     "name": "stdout",
     "output_type": "stream",
     "text": [
      "Warning: not converged\n",
      "unconverged value of tau: 6.899555206298828                   after: 9101 iterations in: 721.9937                    seconds at a rate of 0.0793 s/iter\n"
     ]
    },
    {
     "data": {
      "text/plain": [
       "(tensor(6.8996, device='cuda:0'),\n",
       " tensor(0.0599),\n",
       " {'pore': 0.5866971015930176, 'particle': 0.4133029580116272},\n",
       " tensor(0.0548))"
      ]
     },
     "execution_count": 3,
     "metadata": {},
     "output_type": "execute_result"
    }
   ],
   "source": [
    "img = tifffile.imread('data/nmc1uncal_ROI_contrastfiltering_manualsegmentation.tif')\n",
    "tau_solver = tau.Solver(img)\n",
    "tau_solver.solve()\n",
    "tautau, D_eff, vf, sa = tau_solver.tau, tau_solver.D_eff, volume_fraction(img, phases={'pore':0, 'particle':1}), surface_area(img, phases=[0,1])\n",
    "del img, tau_solver\n",
    "torch.cuda.empty_cache()\n",
    "tautau, D_eff, vf, sa"
   ]
  },
  {
   "cell_type": "code",
   "execution_count": 4,
   "metadata": {},
   "outputs": [
    {
     "name": "stdout",
     "output_type": "stream",
     "text": [
      "converged to: 5.216829299926758                   after: 4601 iterations in: 241.4508                    seconds at a rate of 0.0525 s/iter\n"
     ]
    },
    {
     "data": {
      "text/plain": [
       "(tensor(6.8996, device='cuda:0'),\n",
       " tensor(0.0599),\n",
       " {'pore': 0.5866971015930176, 'particle': 0.4133029580116272},\n",
       " tensor(0.0548))"
      ]
     },
     "execution_count": 4,
     "metadata": {},
     "output_type": "execute_result"
    }
   ],
   "source": [
    "img = tifffile.imread('data/nmc2cal_ROI_contrastfiltering_LocalOtsusegmentation.tif')\n",
    "tau_solver = tau.Solver(img)\n",
    "tau_solver.solve()\n",
    "tau_solver.tau, tau_solver.D_eff, volume_fraction(img, phases={'pore':0, 'particle':1}), surface_area(img, phases=[0,1])\n",
    "del img, tau_solver\n",
    "torch.cuda.empty_cache()\n",
    "tautau, D_eff, vf, sa"
   ]
  },
  {
   "cell_type": "code",
   "execution_count": 5,
   "metadata": {},
   "outputs": [
    {
     "name": "stdout",
     "output_type": "stream",
     "text": [
      "converged to: 6.575479030609131                   after: 1501 iterations in: 105.5262                    seconds at a rate of 0.0703 s/iter\n"
     ]
    },
    {
     "data": {
      "text/plain": [
       "(tensor(6.5755, device='cuda:0'),\n",
       " tensor(0.0581),\n",
       " {'pore': 0.6178159713745117, 'particle': 0.3821839988231659},\n",
       " tensor(0.0538))"
      ]
     },
     "execution_count": 5,
     "metadata": {},
     "output_type": "execute_result"
    }
   ],
   "source": [
    "img = tifffile.imread('data/nmc2uncal_ROI_contrastfiltered_localOtsusegmentation.tif')\n",
    "tau_solver = tau.Solver(img)\n",
    "tau_solver.solve()\n",
    "tautau, D_eff, vf, sa = tau_solver.tau, tau_solver.D_eff, volume_fraction(img, phases={'pore':0, 'particle':1}), surface_area(img, phases=[0,1])\n",
    "del img, tau_solver\n",
    "torch.cuda.empty_cache()\n",
    "tautau, D_eff, vf, sa"
   ]
  },
  {
   "cell_type": "code",
   "execution_count": null,
   "metadata": {},
   "outputs": [],
   "source": []
  }
 ],
 "metadata": {
  "kernelspec": {
   "display_name": "ustruct-to-echem",
   "language": "python",
   "name": "python3"
  },
  "language_info": {
   "codemirror_mode": {
    "name": "ipython",
    "version": 3
   },
   "file_extension": ".py",
   "mimetype": "text/x-python",
   "name": "python",
   "nbconvert_exporter": "python",
   "pygments_lexer": "ipython3",
   "version": "3.11.5"
  }
 },
 "nbformat": 4,
 "nbformat_minor": 2
}
